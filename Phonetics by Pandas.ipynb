{
 "cells": [
  {
   "cell_type": "code",
   "execution_count": 1,
   "id": "87c09776",
   "metadata": {},
   "outputs": [
    {
     "data": {
      "text/plain": [
       "['4.xlsx', 'saved_file.xlsx', 'Zaban Ultimate.xlsx']"
      ]
     },
     "execution_count": 1,
     "metadata": {},
     "output_type": "execute_result"
    }
   ],
   "source": [
    "import pandas as pd\n",
    "import eng_to_ipa as p\n",
    "import os\n",
    "\n",
    "cwd = os.getcwd()\n",
    "cwd\n",
    "\n",
    "os.chdir(\"D:/phonetic\")\n",
    "os.listdir('.')"
   ]
  },
  {
   "cell_type": "code",
   "execution_count": 2,
   "id": "1a23d778",
   "metadata": {},
   "outputs": [],
   "source": [
    "df = pd.read_excel('4.xlsx')"
   ]
  },
  {
   "cell_type": "code",
   "execution_count": 3,
   "id": "6a1c5880",
   "metadata": {},
   "outputs": [
    {
     "data": {
      "text/plain": [
       "'θrɪft'"
      ]
     },
     "execution_count": 3,
     "metadata": {},
     "output_type": "execute_result"
    }
   ],
   "source": [
    "p.convert(df.iloc[6][0])"
   ]
  },
  {
   "cell_type": "code",
   "execution_count": 4,
   "id": "7541302d",
   "metadata": {},
   "outputs": [
    {
     "name": "stdout",
     "output_type": "stream",
     "text": [
      "                 A                 B\n",
      "0        down turn         daʊn tərn\n",
      "1           stingy           ˈstɪnʤi\n",
      "2       well-being         ˌwɛlˈbiɪŋ\n",
      "3      impecunious      impecunious*\n",
      "4         well-off         well-off*\n",
      "...            ...               ...\n",
      "2370    rationale        /ˌræʃəˈnæl/\n",
      "2371  inconclusive  /ˌɪnkənˈkluːsɪv/\n",
      "2372       agility       /əˈdʒɪləti/\n",
      "2373       adverse        /ædˈvɜrːs/\n",
      "2374    aspiration     /ˌæspəˈreɪʃn/\n",
      "\n",
      "[2375 rows x 2 columns]\n"
     ]
    }
   ],
   "source": [
    "df2=df\n",
    "for index, row in df.iterrows():\n",
    "    df1 = df.fillna({'B': p.convert(row['A'])})\n",
    "    df2.loc[index][1]=df1.loc[index][1]\n",
    "print(df2)"
   ]
  },
  {
   "cell_type": "code",
   "execution_count": 5,
   "id": "ef0bbbee",
   "metadata": {},
   "outputs": [],
   "source": [
    "df.to_excel('saved_file.xlsx')"
   ]
  }
 ],
 "metadata": {
  "hide_input": false,
  "kernelspec": {
   "display_name": "Python 3",
   "language": "python",
   "name": "python3"
  },
  "language_info": {
   "codemirror_mode": {
    "name": "ipython",
    "version": 3
   },
   "file_extension": ".py",
   "mimetype": "text/x-python",
   "name": "python",
   "nbconvert_exporter": "python",
   "pygments_lexer": "ipython3",
   "version": "3.8.8"
  },
  "varInspector": {
   "cols": {
    "lenName": 16,
    "lenType": 16,
    "lenVar": 40
   },
   "kernels_config": {
    "python": {
     "delete_cmd_postfix": "",
     "delete_cmd_prefix": "del ",
     "library": "var_list.py",
     "varRefreshCmd": "print(var_dic_list())"
    },
    "r": {
     "delete_cmd_postfix": ") ",
     "delete_cmd_prefix": "rm(",
     "library": "var_list.r",
     "varRefreshCmd": "cat(var_dic_list()) "
    }
   },
   "types_to_exclude": [
    "module",
    "function",
    "builtin_function_or_method",
    "instance",
    "_Feature"
   ],
   "window_display": false
  }
 },
 "nbformat": 4,
 "nbformat_minor": 5
}
